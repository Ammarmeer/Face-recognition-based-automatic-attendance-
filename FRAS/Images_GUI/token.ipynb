{
 "cells": [
  {
   "cell_type": "code",
   "execution_count": 6,
   "metadata": {},
   "outputs": [
    {
     "name": "stderr",
     "output_type": "stream",
     "text": [
      "[nltk_data] Downloading package punkt to C:\\Users\\Wajahat\n",
      "[nltk_data]     Ali\\AppData\\Roaming\\nltk_data...\n",
      "[nltk_data]   Package punkt is already up-to-date!\n"
     ]
    },
    {
     "data": {
      "text/plain": [
       "['A',\n",
       " 'boy',\n",
       " 'is',\n",
       " 'a',\n",
       " 'student',\n",
       " 'studying',\n",
       " 'in',\n",
       " 'university',\n",
       " 'of',\n",
       " 'kotli',\n",
       " 'ajk']"
      ]
     },
     "execution_count": 6,
     "metadata": {},
     "output_type": "execute_result"
    }
   ],
   "source": [
    "import nltk\n",
    "import nltk.corpus\n",
    "from nltk.tokenize import word_tokenize\n",
    "nltk.download('punkt')\n",
    "\n",
    "string=\"A boy is a student studying in university of kotli ajk\"\n",
    "s_token=word_tokenize(string)\n",
    "s_token\n"
   ]
  },
  {
   "cell_type": "code",
   "execution_count": 8,
   "metadata": {},
   "outputs": [
    {
     "data": {
      "text/plain": [
       "[('A', 1),\n",
       " ('boy', 1),\n",
       " ('is', 1),\n",
       " ('a', 1),\n",
       " ('student', 1),\n",
       " ('studying', 1),\n",
       " ('in', 1),\n",
       " ('university', 1),\n",
       " ('of', 1),\n",
       " ('kotli', 1),\n",
       " ('ajk', 1)]"
      ]
     },
     "execution_count": 8,
     "metadata": {},
     "output_type": "execute_result"
    }
   ],
   "source": [
    "from nltk.probability import FreqDist\n",
    "fdist=FreqDist()\n",
    "for i in s_token:\n",
    "    fdist[i]=fdist[i]+1\n",
    "fdist\n",
    "top=fdist.most_common(15)\n",
    "top"
   ]
  },
  {
   "cell_type": "code",
   "execution_count": 9,
   "metadata": {},
   "outputs": [
    {
     "data": {
      "text/plain": [
       "(list, 11)"
      ]
     },
     "execution_count": 9,
     "metadata": {},
     "output_type": "execute_result"
    }
   ],
   "source": [
    "type(s_token),len(s_token)"
   ]
  },
  {
   "cell_type": "code",
   "execution_count": 12,
   "metadata": {},
   "outputs": [
    {
     "data": {
      "text/plain": [
       "[('A', 'boy'),\n",
       " ('boy', 'is'),\n",
       " ('is', 'a'),\n",
       " ('a', 'student'),\n",
       " ('student', 'studying'),\n",
       " ('studying', 'in'),\n",
       " ('in', 'university'),\n",
       " ('university', 'of'),\n",
       " ('of', 'kotli'),\n",
       " ('kotli', 'ajk')]"
      ]
     },
     "execution_count": 12,
     "metadata": {},
     "output_type": "execute_result"
    }
   ],
   "source": [
    "b=list(nltk.bigrams(s_token))\n",
    "b"
   ]
  },
  {
   "cell_type": "code",
   "execution_count": 21,
   "metadata": {},
   "outputs": [
    {
     "data": {
      "text/plain": [
       "('win', 'end', 'stream')"
      ]
     },
     "execution_count": 21,
     "metadata": {},
     "output_type": "execute_result"
    }
   ],
   "source": [
    "from nltk.stem import PorterStemmer\n",
    "pst=PorterStemmer()\n",
    "pst.stem(\"Winning\"),pst.stem(\"Ending\"),pst.stem(\"streaming\")\n"
   ]
  },
  {
   "cell_type": "markdown",
   "metadata": {},
   "source": []
  },
  {
   "cell_type": "markdown",
   "metadata": {},
   "source": []
  }
 ],
 "metadata": {
  "interpreter": {
   "hash": "48cfec7b607ce8e40cc66c36f97eecaeef559441e7943b744d0233f5aa3a6ec7"
  },
  "kernelspec": {
   "display_name": "Python 3.7.0 64-bit",
   "language": "python",
   "name": "python3"
  },
  "language_info": {
   "codemirror_mode": {
    "name": "ipython",
    "version": 3
   },
   "file_extension": ".py",
   "mimetype": "text/x-python",
   "name": "python",
   "nbconvert_exporter": "python",
   "pygments_lexer": "ipython3",
   "version": "3.7.0"
  },
  "orig_nbformat": 4
 },
 "nbformat": 4,
 "nbformat_minor": 2
}
