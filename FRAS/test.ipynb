{
 "cells": [
  {
   "cell_type": "code",
   "execution_count": 7,
   "metadata": {},
   "outputs": [
    {
     "name": "stdout",
     "output_type": "stream",
     "text": [
      "oct\n"
     ]
    }
   ],
   "source": [
    "import datetime\n",
    "from datetime import date\n",
    "\n",
    "from datetime import datetime\n",
    "  \n",
    "today = datetime.now()\n",
    "m=str(today.month)\n",
    "if m==\"9\":\n",
    "    print(\"sep\")\n",
    "if m==\"10\":\n",
    "    print(\"oct\")\n"
   ]
  }
 ],
 "metadata": {
  "kernelspec": {
   "display_name": "Python 3.7.0 64-bit",
   "language": "python",
   "name": "python3"
  },
  "language_info": {
   "codemirror_mode": {
    "name": "ipython",
    "version": 3
   },
   "file_extension": ".py",
   "mimetype": "text/x-python",
   "name": "python",
   "nbconvert_exporter": "python",
   "pygments_lexer": "ipython3",
   "version": "3.7.0"
  },
  "orig_nbformat": 4,
  "vscode": {
   "interpreter": {
    "hash": "ea08b21ca3dc5f551d738177b41c70280eeaed80ed90e26c8d1fa2571c72b8fc"
   }
  }
 },
 "nbformat": 4,
 "nbformat_minor": 2
}
